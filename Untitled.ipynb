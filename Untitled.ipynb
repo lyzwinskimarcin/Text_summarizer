{
 "cells": [
  {
   "cell_type": "markdown",
   "id": "fb761df9-1481-4b5e-92a7-43bb448d74c0",
   "metadata": {},
   "source": [
    "# Imports"
   ]
  },
  {
   "cell_type": "code",
   "execution_count": 1,
   "id": "1bba39af-339c-4b1f-b360-c0a7ba50b83c",
   "metadata": {},
   "outputs": [],
   "source": [
    "import os\n",
    "import re\n",
    "import numpy as np\n",
    "import matplotlib.pyplot as plt\n",
    "import pandas as pd\n",
    "import tensorflow as tf\n",
    "from tqdm import tqdm\n",
    "from tensorflow.keras.preprocessing.text import Tokenizer\n",
    "from tensorflow.keras.preprocessing.sequence import pad_sequences\n",
    "tqdm.pandas()\n"
   ]
  },
  {
   "cell_type": "markdown",
   "id": "86adf46a-0c39-4d16-bee9-dc749f66b44a",
   "metadata": {},
   "source": [
    "# Data Loading"
   ]
  },
  {
   "cell_type": "code",
   "execution_count": 2,
   "id": "5989b479-d041-48a0-8add-ccb826e5e72e",
   "metadata": {},
   "outputs": [],
   "source": [
    "# Function for reading one file\n",
    "def read_dataset(file_path):\n",
    "    with open(file_path, 'r', encoding='utf-8') as file:\n",
    "        blocks = file.read().split(\"\\n@highlight\\n\")\n",
    "\n",
    "    highlights = []\n",
    "    story = blocks[0].replace(\"\\n\", \" \").strip()  # Remove newlines from the story\n",
    "\n",
    "    for i in range(1, len(blocks)):\n",
    "        highlight = blocks[i].replace(\"\\n\", \" \").strip()  # Remove newlines from the highlights\n",
    "        highlights.append(highlight)\n",
    "\n",
    "    return story, highlights\n",
    "\n",
    "# function for reading all the stories\n",
    "def read_all_stories(directories):\n",
    "    # Gather all .STORY file paths from the specified directories\n",
    "    file_paths = []\n",
    "    for directory in directories:\n",
    "        for filename in os.listdir(directory):\n",
    "            if filename.endswith(\".story\"):\n",
    "                file_paths.append(os.path.join(directory, filename))\n",
    "\n",
    "    data = []  # List to hold data before converting to DataFrame\n",
    "\n",
    "    # Read and process each .STORY file\n",
    "    for path in tqdm(file_paths, desc=\"Processing files\"):\n",
    "        try:\n",
    "            story, highlights = read_dataset(path)\n",
    "            data.append({'story': story, 'highlights': highlights})\n",
    "        except Exception as e:\n",
    "            print(f\"Error processing file {path}: {e}\")\n",
    "\n",
    "    df = pd.DataFrame(data)\n",
    "    return df\n",
    "\n"
   ]
  },
  {
   "cell_type": "code",
   "execution_count": 3,
   "id": "430762c7-24fc-46b3-a569-6fafe3cb6692",
   "metadata": {},
   "outputs": [
    {
     "name": "stderr",
     "output_type": "stream",
     "text": [
      "Processing files: 100%|█████████████████████████████████████████████████████████████| 23/23 [00:00<00:00, 11313.36it/s]\n"
     ]
    }
   ],
   "source": [
    "file_paths = ['Data/testread1', 'Data/testread2']\n",
    "raw_data = read_all_stories(file_paths)"
   ]
  },
  {
   "cell_type": "code",
   "execution_count": 4,
   "id": "f8358a73-b106-4e73-90be-835b59e54b18",
   "metadata": {},
   "outputs": [
    {
     "name": "stderr",
     "output_type": "stream",
     "text": [
      "Processing files: 100%|███████████████████████████████████████████████████████| 312085/312085 [13:28<00:00, 385.80it/s]\n"
     ]
    }
   ],
   "source": [
    "file_paths = ['Data/cnn', 'Data/dailymail']\n",
    "raw_data = read_all_stories(file_paths)"
   ]
  },
  {
   "cell_type": "code",
   "execution_count": 5,
   "id": "a911f7fd-17dc-48bc-8395-1cee208a785b",
   "metadata": {},
   "outputs": [
    {
     "data": {
      "text/html": [
       "<div>\n",
       "<style scoped>\n",
       "    .dataframe tbody tr th:only-of-type {\n",
       "        vertical-align: middle;\n",
       "    }\n",
       "\n",
       "    .dataframe tbody tr th {\n",
       "        vertical-align: top;\n",
       "    }\n",
       "\n",
       "    .dataframe thead th {\n",
       "        text-align: right;\n",
       "    }\n",
       "</style>\n",
       "<table border=\"1\" class=\"dataframe\">\n",
       "  <thead>\n",
       "    <tr style=\"text-align: right;\">\n",
       "      <th></th>\n",
       "      <th>story</th>\n",
       "      <th>highlights</th>\n",
       "    </tr>\n",
       "  </thead>\n",
       "  <tbody>\n",
       "    <tr>\n",
       "      <th>0</th>\n",
       "      <td>It's official: U.S. President Barack Obama wan...</td>\n",
       "      <td>[Syrian official: Obama climbed to the top of ...</td>\n",
       "    </tr>\n",
       "    <tr>\n",
       "      <th>1</th>\n",
       "      <td>(CNN) -- Usain Bolt rounded off the world cham...</td>\n",
       "      <td>[Usain Bolt wins third gold of world champions...</td>\n",
       "    </tr>\n",
       "    <tr>\n",
       "      <th>2</th>\n",
       "      <td>Kansas City, Missouri (CNN) -- The General Ser...</td>\n",
       "      <td>[The employee in agency's Kansas City office i...</td>\n",
       "    </tr>\n",
       "    <tr>\n",
       "      <th>3</th>\n",
       "      <td>Los Angeles (CNN) -- A medical doctor in Vanco...</td>\n",
       "      <td>[NEW: A Canadian doctor says she was part of a...</td>\n",
       "    </tr>\n",
       "    <tr>\n",
       "      <th>4</th>\n",
       "      <td>(CNN) -- Police arrested another teen Thursday...</td>\n",
       "      <td>[Another arrest made in gang rape outside Cali...</td>\n",
       "    </tr>\n",
       "  </tbody>\n",
       "</table>\n",
       "</div>"
      ],
      "text/plain": [
       "                                               story  \\\n",
       "0  It's official: U.S. President Barack Obama wan...   \n",
       "1  (CNN) -- Usain Bolt rounded off the world cham...   \n",
       "2  Kansas City, Missouri (CNN) -- The General Ser...   \n",
       "3  Los Angeles (CNN) -- A medical doctor in Vanco...   \n",
       "4  (CNN) -- Police arrested another teen Thursday...   \n",
       "\n",
       "                                          highlights  \n",
       "0  [Syrian official: Obama climbed to the top of ...  \n",
       "1  [Usain Bolt wins third gold of world champions...  \n",
       "2  [The employee in agency's Kansas City office i...  \n",
       "3  [NEW: A Canadian doctor says she was part of a...  \n",
       "4  [Another arrest made in gang rape outside Cali...  "
      ]
     },
     "execution_count": 5,
     "metadata": {},
     "output_type": "execute_result"
    }
   ],
   "source": [
    "raw_data.head(5)"
   ]
  },
  {
   "cell_type": "code",
   "execution_count": 6,
   "id": "8578760b-3203-4f0f-960d-e2eb62be1dca",
   "metadata": {},
   "outputs": [
    {
     "data": {
      "text/plain": [
       "['Syrian official: Obama climbed to the top of the tree, \"doesn\\'t know how to get down\"',\n",
       " 'Obama sends a letter to the heads of the House and Senate',\n",
       " 'Obama to seek congressional approval on military action against Syria',\n",
       " 'Aim is to determine whether CW were used, not by whom, says U.N. spokesman']"
      ]
     },
     "execution_count": 6,
     "metadata": {},
     "output_type": "execute_result"
    }
   ],
   "source": [
    "raw_data.highlights[0]"
   ]
  },
  {
   "cell_type": "code",
   "execution_count": 7,
   "id": "d65ba1b4-8bda-4a35-8b2f-b3b6f8bcdfbe",
   "metadata": {},
   "outputs": [
    {
     "name": "stdout",
     "output_type": "stream",
     "text": [
      "Number of stories: 312085\n",
      "Number of columns: 2\n"
     ]
    }
   ],
   "source": [
    "num_rows, num_columns = raw_data.shape\n",
    "print(f\"Number of stories: {num_rows}\")\n",
    "print(f\"Number of columns: {num_columns}\")"
   ]
  },
  {
   "cell_type": "markdown",
   "id": "9b8d000c-895e-4786-a550-c066bd4f71ae",
   "metadata": {},
   "source": [
    "## Data Pre-processing"
   ]
  },
  {
   "cell_type": "code",
   "execution_count": 21,
   "id": "6c3acc0e-50ed-4227-8d2a-617ba5fbbcee",
   "metadata": {},
   "outputs": [],
   "source": [
    "class DataPreprocessor:\n",
    "    def __init__(self):\n",
    "        self.tokenizer = Tokenizer(oov_token=\"<OOV>\", num_words=15500) # determined by word count analysis\n",
    "\n",
    "\n",
    "    def clean_df(self, df):\n",
    "        for i in tqdm(range(len(df)), desc=\"Cleaning Dataframe\"):\n",
    "            df.at[i, 'story'] = self.clean_text(df.at[i, 'story'])\n",
    "            df.at[i, 'highlights'] = [self.clean_text(h) for h in df.at[i, 'highlights']]\n",
    "        return df\n",
    "\n",
    "    def clean_text(self, text):\n",
    "        lowercase_text = text.lower()\n",
    "        cleaned_text = self.remove_special(lowercase_text)\n",
    "        return cleaned_text\n",
    "    \n",
    "    def remove_special(self, text):\n",
    "        # Replace special characters with spaces but keep .,!,?\n",
    "        cleaned_text = re.sub(r'[^a-zA-Z0-9\\s.,!?]', ' ', text)\n",
    "        # Replace multiple spaces with a single space\n",
    "        cleaned_text = re.sub(r'\\s+', ' ', cleaned_text).strip()\n",
    "        return cleaned_text\n",
    "\n",
    "    def get_texts_list(self, df):\n",
    "        # Convert the story column to a list\n",
    "        story_texts = df['story'].tolist()\n",
    "        # Flatten the list of lists in the highlights column\n",
    "        story_texts = [text for text in tqdm(df['story'], desc=\"Text Concatenation\")]\n",
    "        highlight_texts = [highlight for sublist in df['highlights'] for highlight in sublist]\n",
    "        # Combine the two lists\n",
    "        all_texts = story_texts + highlight_texts\n",
    "        return all_texts\n",
    "\n",
    "    def tokenize(self, df):\n",
    "        # Will need tokenization parameters\n",
    "        all_texts_list = self.get_texts_list(df)\n",
    "        self.tokenizer.fit_on_texts(all_texts_list)\n",
    "        \n",
    "\n",
    "    def df_to_seq(self, df):\n",
    "        for i in tqdm(range(len(df)), desc=\"Tokenizing Dataframe\"):\n",
    "            df.at[i, 'story'] = self.tokenizer.texts_to_sequences([df.at[i, 'story']])[0]\n",
    "            highlights = df.at[i, 'highlights']\n",
    "            tokenized_highlights = [self.tokenizer.texts_to_sequences([highlight])[0] for highlight in highlights]\n",
    "            df.at[i, 'highlights'] = tokenized_highlights\n",
    "        return df\n",
    "\n",
    "\n",
    "    def data_padding(self, df):\n",
    "        max_story_len = 1250\n",
    "        max_highlight_len = 50\n",
    "        \n",
    "        for i in tqdm(range(len(df)), desc=\"Padding sequences\"):\n",
    "            # Padding for story\n",
    "            df.at[i, 'story'] = pad_sequences([df.at[i, 'story']], maxlen=max_story_len, padding='post', truncating='post')[0]\n",
    "            \n",
    "            # Padding for highlights\n",
    "            df.at[i, 'highlights'] = [pad_sequences([highlight], maxlen=max_highlight_len, padding='post', truncating='post')[0] for highlight in df.at[i, 'highlights']]\n",
    "            \n",
    "        return df\n"
   ]
  },
  {
   "cell_type": "code",
   "execution_count": 22,
   "id": "0bc7f15f-13a7-4cc6-b338-0c4db1010ac8",
   "metadata": {},
   "outputs": [],
   "source": [
    "preprocessor = DataPreprocessor()"
   ]
  },
  {
   "cell_type": "code",
   "execution_count": 10,
   "id": "6c047133-20b2-48e1-8565-9e96422ce7db",
   "metadata": {},
   "outputs": [
    {
     "name": "stderr",
     "output_type": "stream",
     "text": [
      "Cleaning Dataframe: 100%|████████████████████████████████████████████████████| 312085/312085 [01:34<00:00, 3294.24it/s]\n",
      "Text Concatenation: 100%|█████████████████████████████████████████████████| 312085/312085 [00:00<00:00, 2587754.46it/s]\n"
     ]
    }
   ],
   "source": [
    "cleaned_data = preprocessor.clean_df(raw_data)\n",
    "preprocessor.tokenize(cleaned_data)"
   ]
  },
  {
   "cell_type": "code",
   "execution_count": 11,
   "id": "46cf8601-686f-4e99-9b72-674aa59094df",
   "metadata": {},
   "outputs": [
    {
     "name": "stderr",
     "output_type": "stream",
     "text": [
      "IOPub data rate exceeded.\n",
      "The Jupyter server will temporarily stop sending output\n",
      "to the client in order to avoid crashing it.\n",
      "To change this limit, set the config variable\n",
      "`--ServerApp.iopub_data_rate_limit`.\n",
      "\n",
      "Current values:\n",
      "ServerApp.iopub_data_rate_limit=1000000.0 (bytes/sec)\n",
      "ServerApp.rate_limit_window=3.0 (secs)\n",
      "\n"
     ]
    }
   ],
   "source": [
    "print(cleaned_data.head())\n",
    "print(preprocessor.tokenizer.word_index)\n"
   ]
  },
  {
   "cell_type": "code",
   "execution_count": 12,
   "id": "0023a72e-5a2b-40ae-a130-8fd2c62934eb",
   "metadata": {},
   "outputs": [
    {
     "name": "stderr",
     "output_type": "stream",
     "text": [
      "Tokenizing Dataframe: 100%|██████████████████████████████████████████████████| 312085/312085 [01:41<00:00, 3063.36it/s]\n"
     ]
    },
    {
     "data": {
      "text/html": [
       "<div>\n",
       "<style scoped>\n",
       "    .dataframe tbody tr th:only-of-type {\n",
       "        vertical-align: middle;\n",
       "    }\n",
       "\n",
       "    .dataframe tbody tr th {\n",
       "        vertical-align: top;\n",
       "    }\n",
       "\n",
       "    .dataframe thead th {\n",
       "        text-align: right;\n",
       "    }\n",
       "</style>\n",
       "<table border=\"1\" class=\"dataframe\">\n",
       "  <thead>\n",
       "    <tr style=\"text-align: right;\">\n",
       "      <th></th>\n",
       "      <th>story</th>\n",
       "      <th>highlights</th>\n",
       "    </tr>\n",
       "  </thead>\n",
       "  <tbody>\n",
       "    <tr>\n",
       "      <th>0</th>\n",
       "      <td>[15, 8, 471, 122, 8, 151, 1548, 238, 805, 3690...</td>\n",
       "      <td>[[1456, 471, 238, 5694, 3, 2, 219, 6, 2, 1954,...</td>\n",
       "    </tr>\n",
       "    <tr>\n",
       "      <th>1</th>\n",
       "      <td>[116, 13389, 6194, 8171, 104, 2, 92, 4314, 284...</td>\n",
       "      <td>[[13389, 6194, 2622, 456, 1099, 6, 92, 1751], ...</td>\n",
       "    </tr>\n",
       "    <tr>\n",
       "      <th>2</th>\n",
       "      <td>[4158, 133, 3240, 116, 2, 580, 721, 1048, 333,...</td>\n",
       "      <td>[[2, 2558, 7, 699, 8, 4158, 133, 338, 13, 382,...</td>\n",
       "    </tr>\n",
       "    <tr>\n",
       "      <th>3</th>\n",
       "      <td>[1119, 1194, 116, 4, 519, 1144, 7, 8719, 271, ...</td>\n",
       "      <td>[[58, 4, 2975, 1144, 95, 29, 9, 182, 6, 4, 150...</td>\n",
       "    </tr>\n",
       "    <tr>\n",
       "      <th>4</th>\n",
       "      <td>[116, 70, 398, 155, 2324, 378, 2, 3007, 1191, ...</td>\n",
       "      <td>[[155, 969, 107, 7, 1800, 1499, 350, 661, 166]...</td>\n",
       "    </tr>\n",
       "  </tbody>\n",
       "</table>\n",
       "</div>"
      ],
      "text/plain": [
       "                                               story  \\\n",
       "0  [15, 8, 471, 122, 8, 151, 1548, 238, 805, 3690...   \n",
       "1  [116, 13389, 6194, 8171, 104, 2, 92, 4314, 284...   \n",
       "2  [4158, 133, 3240, 116, 2, 580, 721, 1048, 333,...   \n",
       "3  [1119, 1194, 116, 4, 519, 1144, 7, 8719, 271, ...   \n",
       "4  [116, 70, 398, 155, 2324, 378, 2, 3007, 1191, ...   \n",
       "\n",
       "                                          highlights  \n",
       "0  [[1456, 471, 238, 5694, 3, 2, 219, 6, 2, 1954,...  \n",
       "1  [[13389, 6194, 2622, 456, 1099, 6, 92, 1751], ...  \n",
       "2  [[2, 2558, 7, 699, 8, 4158, 133, 338, 13, 382,...  \n",
       "3  [[58, 4, 2975, 1144, 95, 29, 9, 182, 6, 4, 150...  \n",
       "4  [[155, 969, 107, 7, 1800, 1499, 350, 661, 166]...  "
      ]
     },
     "execution_count": 12,
     "metadata": {},
     "output_type": "execute_result"
    }
   ],
   "source": [
    "tokenized_df = preprocessor.df_to_seq(cleaned_data)\n",
    "tokenized_df.head()"
   ]
  },
  {
   "cell_type": "markdown",
   "id": "665db3d6-b76c-4997-845d-461f48327214",
   "metadata": {},
   "source": [
    "### Word limit exploration"
   ]
  },
  {
   "cell_type": "code",
   "execution_count": 13,
   "id": "fb6774cc-4b98-45e1-bd22-585f21ea7351",
   "metadata": {},
   "outputs": [],
   "source": [
    "# # Step 1: Get Word Frequencies\n",
    "# word_freq = preprocessor.tokenizer.word_counts\n",
    "\n",
    "# # Step 2: Sort Word Frequencies in descending order\n",
    "# sorted_word_freq = dict(sorted(word_freq.items(), key=lambda item: item[1], reverse=True))\n",
    "\n",
    "# # Step 3: Calculate Cumulative Frequency\n",
    "# word_counts = list(sorted_word_freq.values())\n",
    "# cumulative_word_counts = np.cumsum(word_counts)\n",
    "# total_word_count = cumulative_word_counts[-1]\n",
    "\n",
    "# # Normalize the cumulative sum to get a distribution\n",
    "# cumulative_distribution = cumulative_word_counts / total_word_count\n",
    "\n",
    "# # Step 4: Visualize Cumulative Frequency Distribution\n",
    "# plt.figure(figsize=(10, 6))\n",
    "# plt.plot(cumulative_distribution)\n",
    "# plt.xlabel(\"Number of Unique Words\")\n",
    "# plt.ylabel(\"Cumulative Frequency\")\n",
    "# plt.title(\"Cumulative Distribution of Word Frequencies\")\n",
    "# plt.grid(True)\n",
    "# plt.show()\n",
    "\n",
    "# index_95_percent = np.argmax(cumulative_distribution > 0.95)\n",
    "\n",
    "# # Odpowiadająca wartość słowa\n",
    "# word_at_95_percent = list(sorted_word_freq.keys())[index_95_percent]\n",
    "\n",
    "# print(f\"95% of the cumulative word count is covered by the first {index_95_percent} words.\")\n",
    "# print(f\"The word at the 95% threshold is: {word_at_95_percent}\")\n"
   ]
  },
  {
   "cell_type": "markdown",
   "id": "18fceec3-52ce-48ca-b2af-e913457e090e",
   "metadata": {},
   "source": [
    "### Max story length exploration"
   ]
  },
  {
   "cell_type": "code",
   "execution_count": 14,
   "id": "9471416a-7c4b-46a3-91f0-9508b3d57044",
   "metadata": {},
   "outputs": [],
   "source": [
    "# Sequence lengths for stories\n",
    "story_lengths = tokenized_df['story'].apply(len)\n",
    "\n",
    "# Sequence lengths for highlights\n",
    "highlight_lengths = tokenized_df['highlights'].apply(lambda x: [len(h) for h in x]).explode()\n"
   ]
  },
  {
   "cell_type": "code",
   "execution_count": 15,
   "id": "0f7e8b9e-344c-449e-b037-0dfb9364e6ff",
   "metadata": {},
   "outputs": [
    {
     "data": {
      "image/png": "[encoded data removed]",
      "text/plain": [
       "<Figure size 1200x500 with 2 Axes>"
      ]
     },
     "metadata": {},
     "output_type": "display_data"
    }
   ],
   "source": [
    "import matplotlib.pyplot as plt\n",
    "\n",
    "plt.figure(figsize=(12, 5))\n",
    "\n",
    "# Histogram for story lengths\n",
    "plt.subplot(1, 2, 1)\n",
    "plt.hist(story_lengths, bins=50, color='blue', alpha=0.7)\n",
    "plt.title('Distribution of Story Lengths')\n",
    "plt.xlabel('Story Length')\n",
    "plt.ylabel('Number of Instances')\n",
    "\n",
    "# Histogram for highlight lengths\n",
    "plt.subplot(1, 2, 2)\n",
    "plt.hist(highlight_lengths, bins=50, color='green', alpha=0.7)\n",
    "plt.title('Distribution of Highlight Lengths')\n",
    "plt.xlabel('Highlight Length')\n",
    "plt.ylabel('Number of Instances')\n",
    "\n",
    "plt.tight_layout()\n",
    "plt.show()\n"
   ]
  },
  {
   "cell_type": "code",
   "execution_count": 16,
   "id": "b3e1519d-3cf0-4deb-b8c6-afcab6fa0b45",
   "metadata": {},
   "outputs": [
    {
     "data": {
      "text/html": [
       "<div>\n",
       "<style scoped>\n",
       "    .dataframe tbody tr th:only-of-type {\n",
       "        vertical-align: middle;\n",
       "    }\n",
       "\n",
       "    .dataframe tbody tr th {\n",
       "        vertical-align: top;\n",
       "    }\n",
       "\n",
       "    .dataframe thead th {\n",
       "        text-align: right;\n",
       "    }\n",
       "</style>\n",
       "<table border=\"1\" class=\"dataframe\">\n",
       "  <thead>\n",
       "    <tr style=\"text-align: right;\">\n",
       "      <th></th>\n",
       "      <th>story</th>\n",
       "      <th>highlights</th>\n",
       "    </tr>\n",
       "  </thead>\n",
       "  <tbody>\n",
       "    <tr>\n",
       "      <th>0</th>\n",
       "      <td>[15, 8, 471, 122, 8, 151, 1548, 238, 805, 3690...</td>\n",
       "      <td>[[1456, 471, 238, 5694, 3, 2, 219, 6, 2, 1954,...</td>\n",
       "    </tr>\n",
       "    <tr>\n",
       "      <th>1</th>\n",
       "      <td>[116, 13389, 6194, 8171, 104, 2, 92, 4314, 284...</td>\n",
       "      <td>[[13389, 6194, 2622, 456, 1099, 6, 92, 1751], ...</td>\n",
       "    </tr>\n",
       "    <tr>\n",
       "      <th>2</th>\n",
       "      <td>[4158, 133, 3240, 116, 2, 580, 721, 1048, 333,...</td>\n",
       "      <td>[[2, 2558, 7, 699, 8, 4158, 133, 338, 13, 382,...</td>\n",
       "    </tr>\n",
       "    <tr>\n",
       "      <th>3</th>\n",
       "      <td>[1119, 1194, 116, 4, 519, 1144, 7, 8719, 271, ...</td>\n",
       "      <td>[[58, 4, 2975, 1144, 95, 29, 9, 182, 6, 4, 150...</td>\n",
       "    </tr>\n",
       "    <tr>\n",
       "      <th>4</th>\n",
       "      <td>[116, 70, 398, 155, 2324, 378, 2, 3007, 1191, ...</td>\n",
       "      <td>[[155, 969, 107, 7, 1800, 1499, 350, 661, 166]...</td>\n",
       "    </tr>\n",
       "  </tbody>\n",
       "</table>\n",
       "</div>"
      ],
      "text/plain": [
       "                                               story  \\\n",
       "0  [15, 8, 471, 122, 8, 151, 1548, 238, 805, 3690...   \n",
       "1  [116, 13389, 6194, 8171, 104, 2, 92, 4314, 284...   \n",
       "2  [4158, 133, 3240, 116, 2, 580, 721, 1048, 333,...   \n",
       "3  [1119, 1194, 116, 4, 519, 1144, 7, 8719, 271, ...   \n",
       "4  [116, 70, 398, 155, 2324, 378, 2, 3007, 1191, ...   \n",
       "\n",
       "                                          highlights  \n",
       "0  [[1456, 471, 238, 5694, 3, 2, 219, 6, 2, 1954,...  \n",
       "1  [[13389, 6194, 2622, 456, 1099, 6, 92, 1751], ...  \n",
       "2  [[2, 2558, 7, 699, 8, 4158, 133, 338, 13, 382,...  \n",
       "3  [[58, 4, 2975, 1144, 95, 29, 9, 182, 6, 4, 150...  \n",
       "4  [[155, 969, 107, 7, 1800, 1499, 350, 661, 166]...  "
      ]
     },
     "execution_count": 16,
     "metadata": {},
     "output_type": "execute_result"
    }
   ],
   "source": [
    "tokenized_df.head()"
   ]
  },
  {
   "cell_type": "code",
   "execution_count": 20,
   "id": "26dd13fe-164e-451a-ac0b-eb7cbfb968e5",
   "metadata": {},
   "outputs": [
    {
     "name": "stdout",
     "output_type": "stream",
     "text": [
      "270\n"
     ]
    }
   ],
   "source": [
    "print(max(highlight_lengths))"
   ]
  }
 ],
 "metadata": {
  "kernelspec": {
   "display_name": "Python 3 (ipykernel)",
   "language": "python",
   "name": "python3"
  },
  "language_info": {
   "codemirror_mode": {
    "name": "ipython",
    "version": 3
   },
   "file_extension": ".py",
   "mimetype": "text/x-python",
   "name": "python",
   "nbconvert_exporter": "python",
   "pygments_lexer": "ipython3",
   "version": "3.9.18"
  }
 },
 "nbformat": 4,
 "nbformat_minor": 5
}
